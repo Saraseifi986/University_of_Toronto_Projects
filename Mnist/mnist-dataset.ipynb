{
 "cells": [
  {
   "cell_type": "markdown",
   "id": "a1dd235d",
   "metadata": {
    "id": "uDEMKptIqGps",
    "papermill": {
     "duration": 0.009622,
     "end_time": "2023-11-11T11:13:59.958436",
     "exception": false,
     "start_time": "2023-11-11T11:13:59.948814",
     "status": "completed"
    },
    "tags": []
   },
   "source": [
    "#importing important libraries"
   ]
  },
  {
   "cell_type": "code",
   "execution_count": 4,
   "id": "4eb7b1ab",
   "metadata": {
    "id": "-ifk4WCxovg-",
    "papermill": {
     "duration": 15.520821,
     "end_time": "2023-11-11T11:14:15.488768",
     "exception": false,
     "start_time": "2023-11-11T11:13:59.967947",
     "status": "completed"
    },
    "tags": []
   },
   "outputs": [],
   "source": [
    "import warnings\n",
    "warnings.filterwarnings(\"ignore\")\n",
    "\n",
    "import tensorflow as tf\n",
    "import numpy as np\n",
    "import pandas as pd\n",
    "import matplotlib.pyplot as plt\n",
    "%matplotlib inline"
   ]
  },
  {
   "cell_type": "markdown",
   "id": "cc54d4da",
   "metadata": {
    "id": "KW4fyWnbqPQh",
    "papermill": {
     "duration": 0.009095,
     "end_time": "2023-11-11T11:14:15.507387",
     "exception": false,
     "start_time": "2023-11-11T11:14:15.498292",
     "status": "completed"
    },
    "tags": []
   },
   "source": [
    "#Load the data set"
   ]
  },
  {
   "cell_type": "code",
   "execution_count": 5,
   "id": "c47a0810",
   "metadata": {
    "id": "YQ9McGnWqMsr",
    "papermill": {
     "duration": 0.633854,
     "end_time": "2023-11-11T11:14:16.150526",
     "exception": false,
     "start_time": "2023-11-11T11:14:15.516672",
     "status": "completed"
    },
    "tags": []
   },
   "outputs": [],
   "source": [
    "(X_train,y_train),(X_test,y_test)=tf.keras.datasets.mnist.load_data()"
   ]
  },
  {
   "cell_type": "code",
   "execution_count": 6,
   "id": "222e7971",
   "metadata": {
    "id": "nD5aOUh8qriJ",
    "outputId": "014c0d90-654d-49a7-afa7-5a65c3b7b63f",
    "papermill": {
     "duration": 0.021808,
     "end_time": "2023-11-11T11:14:16.182234",
     "exception": false,
     "start_time": "2023-11-11T11:14:16.160426",
     "status": "completed"
    },
    "tags": []
   },
   "outputs": [
    {
     "data": {
      "text/plain": [
       "(60000, 28, 28)"
      ]
     },
     "execution_count": 6,
     "metadata": {},
     "output_type": "execute_result"
    }
   ],
   "source": [
    "X_train.shape"
   ]
  },
  {
   "cell_type": "code",
   "execution_count": 7,
   "id": "950b89ef",
   "metadata": {
    "id": "e8jqfruBq5Be",
    "outputId": "f0343c4b-3777-40bc-f196-43658e7d8fd4",
    "papermill": {
     "duration": 0.020934,
     "end_time": "2023-11-11T11:14:16.213101",
     "exception": false,
     "start_time": "2023-11-11T11:14:16.192167",
     "status": "completed"
    },
    "tags": []
   },
   "outputs": [
    {
     "data": {
      "text/plain": [
       "(10000, 28, 28)"
      ]
     },
     "execution_count": 7,
     "metadata": {},
     "output_type": "execute_result"
    }
   ],
   "source": [
    "X_test.shape"
   ]
  },
  {
   "cell_type": "code",
   "execution_count": 8,
   "id": "9923b141",
   "metadata": {
    "id": "5uSj4OFWq8La",
    "outputId": "c7f80f76-944a-4f08-c39d-c0ab2fcf0a2a",
    "papermill": {
     "duration": 0.024712,
     "end_time": "2023-11-11T11:14:16.247771",
     "exception": false,
     "start_time": "2023-11-11T11:14:16.223059",
     "status": "completed"
    },
    "tags": []
   },
   "outputs": [
    {
     "data": {
      "text/plain": [
       "array([[  0,   0,   0,   0,   0,   0,   0,   0,   0,   0,   0,   0,   0,\n",
       "          0,   0,   0,   0,   0,   0,   0,   0,   0,   0,   0,   0,   0,\n",
       "          0,   0],\n",
       "       [  0,   0,   0,   0,   0,   0,   0,   0,   0,   0,   0,   0,   0,\n",
       "          0,   0,   0,   0,   0,   0,   0,   0,   0,   0,   0,   0,   0,\n",
       "          0,   0],\n",
       "       [  0,   0,   0,   0,   0,   0,   0,   0,   0,   0,   0,   0,   0,\n",
       "          0,   0,   0,   0,   0,   0,   0,   0,   0,   0,   0,   0,   0,\n",
       "          0,   0],\n",
       "       [  0,   0,   0,   0,   0,   0,   0,   0,   0,   0,   0,   0,   0,\n",
       "          0,   0,   0,   0,   0,   0,   0,   0,   0,   0,   0,   0,   0,\n",
       "          0,   0],\n",
       "       [  0,   0,   0,   0,   0,   0,   0,   0,   0,   0,   0,   0,   0,\n",
       "          0,   0,   0,   0,   0,   0,   0,   0,   0,   0,   0,   0,   0,\n",
       "          0,   0],\n",
       "       [  0,   0,   0,   0,   0,   0,   0,   0,   0,   0,   0,   0,   3,\n",
       "         18,  18,  18, 126, 136, 175,  26, 166, 255, 247, 127,   0,   0,\n",
       "          0,   0],\n",
       "       [  0,   0,   0,   0,   0,   0,   0,   0,  30,  36,  94, 154, 170,\n",
       "        253, 253, 253, 253, 253, 225, 172, 253, 242, 195,  64,   0,   0,\n",
       "          0,   0],\n",
       "       [  0,   0,   0,   0,   0,   0,   0,  49, 238, 253, 253, 253, 253,\n",
       "        253, 253, 253, 253, 251,  93,  82,  82,  56,  39,   0,   0,   0,\n",
       "          0,   0],\n",
       "       [  0,   0,   0,   0,   0,   0,   0,  18, 219, 253, 253, 253, 253,\n",
       "        253, 198, 182, 247, 241,   0,   0,   0,   0,   0,   0,   0,   0,\n",
       "          0,   0],\n",
       "       [  0,   0,   0,   0,   0,   0,   0,   0,  80, 156, 107, 253, 253,\n",
       "        205,  11,   0,  43, 154,   0,   0,   0,   0,   0,   0,   0,   0,\n",
       "          0,   0],\n",
       "       [  0,   0,   0,   0,   0,   0,   0,   0,   0,  14,   1, 154, 253,\n",
       "         90,   0,   0,   0,   0,   0,   0,   0,   0,   0,   0,   0,   0,\n",
       "          0,   0],\n",
       "       [  0,   0,   0,   0,   0,   0,   0,   0,   0,   0,   0, 139, 253,\n",
       "        190,   2,   0,   0,   0,   0,   0,   0,   0,   0,   0,   0,   0,\n",
       "          0,   0],\n",
       "       [  0,   0,   0,   0,   0,   0,   0,   0,   0,   0,   0,  11, 190,\n",
       "        253,  70,   0,   0,   0,   0,   0,   0,   0,   0,   0,   0,   0,\n",
       "          0,   0],\n",
       "       [  0,   0,   0,   0,   0,   0,   0,   0,   0,   0,   0,   0,  35,\n",
       "        241, 225, 160, 108,   1,   0,   0,   0,   0,   0,   0,   0,   0,\n",
       "          0,   0],\n",
       "       [  0,   0,   0,   0,   0,   0,   0,   0,   0,   0,   0,   0,   0,\n",
       "         81, 240, 253, 253, 119,  25,   0,   0,   0,   0,   0,   0,   0,\n",
       "          0,   0],\n",
       "       [  0,   0,   0,   0,   0,   0,   0,   0,   0,   0,   0,   0,   0,\n",
       "          0,  45, 186, 253, 253, 150,  27,   0,   0,   0,   0,   0,   0,\n",
       "          0,   0],\n",
       "       [  0,   0,   0,   0,   0,   0,   0,   0,   0,   0,   0,   0,   0,\n",
       "          0,   0,  16,  93, 252, 253, 187,   0,   0,   0,   0,   0,   0,\n",
       "          0,   0],\n",
       "       [  0,   0,   0,   0,   0,   0,   0,   0,   0,   0,   0,   0,   0,\n",
       "          0,   0,   0,   0, 249, 253, 249,  64,   0,   0,   0,   0,   0,\n",
       "          0,   0],\n",
       "       [  0,   0,   0,   0,   0,   0,   0,   0,   0,   0,   0,   0,   0,\n",
       "          0,  46, 130, 183, 253, 253, 207,   2,   0,   0,   0,   0,   0,\n",
       "          0,   0],\n",
       "       [  0,   0,   0,   0,   0,   0,   0,   0,   0,   0,   0,   0,  39,\n",
       "        148, 229, 253, 253, 253, 250, 182,   0,   0,   0,   0,   0,   0,\n",
       "          0,   0],\n",
       "       [  0,   0,   0,   0,   0,   0,   0,   0,   0,   0,  24, 114, 221,\n",
       "        253, 253, 253, 253, 201,  78,   0,   0,   0,   0,   0,   0,   0,\n",
       "          0,   0],\n",
       "       [  0,   0,   0,   0,   0,   0,   0,   0,  23,  66, 213, 253, 253,\n",
       "        253, 253, 198,  81,   2,   0,   0,   0,   0,   0,   0,   0,   0,\n",
       "          0,   0],\n",
       "       [  0,   0,   0,   0,   0,   0,  18, 171, 219, 253, 253, 253, 253,\n",
       "        195,  80,   9,   0,   0,   0,   0,   0,   0,   0,   0,   0,   0,\n",
       "          0,   0],\n",
       "       [  0,   0,   0,   0,  55, 172, 226, 253, 253, 253, 253, 244, 133,\n",
       "         11,   0,   0,   0,   0,   0,   0,   0,   0,   0,   0,   0,   0,\n",
       "          0,   0],\n",
       "       [  0,   0,   0,   0, 136, 253, 253, 253, 212, 135, 132,  16,   0,\n",
       "          0,   0,   0,   0,   0,   0,   0,   0,   0,   0,   0,   0,   0,\n",
       "          0,   0],\n",
       "       [  0,   0,   0,   0,   0,   0,   0,   0,   0,   0,   0,   0,   0,\n",
       "          0,   0,   0,   0,   0,   0,   0,   0,   0,   0,   0,   0,   0,\n",
       "          0,   0],\n",
       "       [  0,   0,   0,   0,   0,   0,   0,   0,   0,   0,   0,   0,   0,\n",
       "          0,   0,   0,   0,   0,   0,   0,   0,   0,   0,   0,   0,   0,\n",
       "          0,   0],\n",
       "       [  0,   0,   0,   0,   0,   0,   0,   0,   0,   0,   0,   0,   0,\n",
       "          0,   0,   0,   0,   0,   0,   0,   0,   0,   0,   0,   0,   0,\n",
       "          0,   0]], dtype=uint8)"
      ]
     },
     "execution_count": 8,
     "metadata": {},
     "output_type": "execute_result"
    }
   ],
   "source": [
    "#lets take a look how image looks like\n",
    "X_train[0]"
   ]
  },
  {
   "cell_type": "code",
   "execution_count": 9,
   "id": "b2911a54",
   "metadata": {
    "id": "hF0uZa8VrD2_",
    "outputId": "56633cb2-3880-40da-80ee-a9707d1d5914",
    "papermill": {
     "duration": 0.345405,
     "end_time": "2023-11-11T11:14:16.603458",
     "exception": false,
     "start_time": "2023-11-11T11:14:16.258053",
     "status": "completed"
    },
    "tags": []
   },
   "outputs": [
    {
     "data": {
      "text/plain": [
       "<matplotlib.image.AxesImage at 0x219b3a73ac0>"
      ]
     },
     "execution_count": 9,
     "metadata": {},
     "output_type": "execute_result"
    },
    {
     "data": {
      "image/png": "[encoded data removed]",
      "text/plain": [
       "<Figure size 640x480 with 1 Axes>"
      ]
     },
     "metadata": {},
     "output_type": "display_data"
    }
   ],
   "source": [
    "plt.imshow(X_train[0])"
   ]
  },
  {
   "cell_type": "code",
   "execution_count": 10,
   "id": "ba6dd0fd",
   "metadata": {
    "id": "D0Uf7VGarKTr",
    "outputId": "6b41d96f-eb5a-4037-e8e8-905c85c0ac52",
    "papermill": {
     "duration": 0.022393,
     "end_time": "2023-11-11T11:14:16.636636",
     "exception": false,
     "start_time": "2023-11-11T11:14:16.614243",
     "status": "completed"
    },
    "tags": []
   },
   "outputs": [
    {
     "data": {
      "text/plain": [
       "5"
      ]
     },
     "execution_count": 10,
     "metadata": {},
     "output_type": "execute_result"
    }
   ],
   "source": [
    "y_train[0]"
   ]
  },
  {
   "cell_type": "markdown",
   "id": "f414989c",
   "metadata": {
    "id": "CyhraY4AuqZb",
    "papermill": {
     "duration": 0.010629,
     "end_time": "2023-11-11T11:14:16.658000",
     "exception": false,
     "start_time": "2023-11-11T11:14:16.647371",
     "status": "completed"
    },
    "tags": []
   },
   "source": [
    "#normalize the data"
   ]
  },
  {
   "cell_type": "code",
   "execution_count": 11,
   "id": "ab5b01e8",
   "metadata": {
    "id": "uBUNa0h9rO05",
    "papermill": {
     "duration": 0.171377,
     "end_time": "2023-11-11T11:14:16.840562",
     "exception": false,
     "start_time": "2023-11-11T11:14:16.669185",
     "status": "completed"
    },
    "tags": []
   },
   "outputs": [],
   "source": [
    "#the pizel value ranger from 0-255\n",
    "#normalize the values using min max scaler\n",
    "#formula is X-Xmin/Xmax-Xmin=X/255\n",
    "X_train=X_train/255\n",
    "X_test=X_test/255"
   ]
  },
  {
   "cell_type": "code",
   "execution_count": 12,
   "id": "ef7d9d15",
   "metadata": {
    "id": "1Z0eXyZ6vpT7",
    "outputId": "01dd5794-f3bc-49d7-f655-df6f7fc9f24a",
    "papermill": {
     "duration": 0.030661,
     "end_time": "2023-11-11T11:14:16.882040",
     "exception": false,
     "start_time": "2023-11-11T11:14:16.851379",
     "status": "completed"
    },
    "tags": []
   },
   "outputs": [
    {
     "data": {
      "text/plain": [
       "array([[0.        , 0.        , 0.        , 0.        , 0.        ,\n",
       "        0.        , 0.        , 0.        , 0.        , 0.        ,\n",
       "        0.        , 0.        , 0.        , 0.        , 0.        ,\n",
       "        0.        , 0.        , 0.        , 0.        , 0.        ,\n",
       "        0.        , 0.        , 0.        , 0.        , 0.        ,\n",
       "        0.        , 0.        , 0.        ],\n",
       "       [0.        , 0.        , 0.        , 0.        , 0.        ,\n",
       "        0.        , 0.        , 0.        , 0.        , 0.        ,\n",
       "        0.        , 0.        , 0.        , 0.        , 0.        ,\n",
       "        0.        , 0.        , 0.        , 0.        , 0.        ,\n",
       "        0.        , 0.        , 0.        , 0.        , 0.        ,\n",
       "        0.        , 0.        , 0.        ],\n",
       "       [0.        , 0.        , 0.        , 0.        , 0.        ,\n",
       "        0.        , 0.        , 0.        , 0.        , 0.        ,\n",
       "        0.        , 0.        , 0.        , 0.        , 0.        ,\n",
       "        0.        , 0.        , 0.        , 0.        , 0.        ,\n",
       "        0.        , 0.        , 0.        , 0.        , 0.        ,\n",
       "        0.        , 0.        , 0.        ],\n",
       "       [0.        , 0.        , 0.        , 0.        , 0.        ,\n",
       "        0.        , 0.        , 0.        , 0.        , 0.        ,\n",
       "        0.        , 0.        , 0.        , 0.        , 0.        ,\n",
       "        0.        , 0.        , 0.        , 0.        , 0.        ,\n",
       "        0.        , 0.        , 0.        , 0.        , 0.        ,\n",
       "        0.        , 0.        , 0.        ],\n",
       "       [0.        , 0.        , 0.        , 0.        , 0.        ,\n",
       "        0.        , 0.        , 0.        , 0.        , 0.        ,\n",
       "        0.        , 0.        , 0.        , 0.        , 0.        ,\n",
       "        0.        , 0.        , 0.        , 0.        , 0.        ,\n",
       "        0.        , 0.        , 0.        , 0.        , 0.        ,\n",
       "        0.        , 0.        , 0.        ],\n",
       "       [0.        , 0.        , 0.        , 0.        , 0.        ,\n",
       "        0.        , 0.        , 0.        , 0.        , 0.        ,\n",
       "        0.        , 0.        , 0.01176471, 0.07058824, 0.07058824,\n",
       "        0.07058824, 0.49411765, 0.53333333, 0.68627451, 0.10196078,\n",
       "        0.65098039, 1.        , 0.96862745, 0.49803922, 0.        ,\n",
       "        0.        , 0.        , 0.        ],\n",
       "       [0.        , 0.        , 0.        , 0.        , 0.        ,\n",
       "        0.        , 0.        , 0.        , 0.11764706, 0.14117647,\n",
       "        0.36862745, 0.60392157, 0.66666667, 0.99215686, 0.99215686,\n",
       "        0.99215686, 0.99215686, 0.99215686, 0.88235294, 0.6745098 ,\n",
       "        0.99215686, 0.94901961, 0.76470588, 0.25098039, 0.        ,\n",
       "        0.        , 0.        , 0.        ],\n",
       "       [0.        , 0.        , 0.        , 0.        , 0.        ,\n",
       "        0.        , 0.        , 0.19215686, 0.93333333, 0.99215686,\n",
       "        0.99215686, 0.99215686, 0.99215686, 0.99215686, 0.99215686,\n",
       "        0.99215686, 0.99215686, 0.98431373, 0.36470588, 0.32156863,\n",
       "        0.32156863, 0.21960784, 0.15294118, 0.        , 0.        ,\n",
       "        0.        , 0.        , 0.        ],\n",
       "       [0.        , 0.        , 0.        , 0.        , 0.        ,\n",
       "        0.        , 0.        , 0.07058824, 0.85882353, 0.99215686,\n",
       "        0.99215686, 0.99215686, 0.99215686, 0.99215686, 0.77647059,\n",
       "        0.71372549, 0.96862745, 0.94509804, 0.        , 0.        ,\n",
       "        0.        , 0.        , 0.        , 0.        , 0.        ,\n",
       "        0.        , 0.        , 0.        ],\n",
       "       [0.        , 0.        , 0.        , 0.        , 0.        ,\n",
       "        0.        , 0.        , 0.        , 0.31372549, 0.61176471,\n",
       "        0.41960784, 0.99215686, 0.99215686, 0.80392157, 0.04313725,\n",
       "        0.        , 0.16862745, 0.60392157, 0.        , 0.        ,\n",
       "        0.        , 0.        , 0.        , 0.        , 0.        ,\n",
       "        0.        , 0.        , 0.        ],\n",
       "       [0.        , 0.        , 0.        , 0.        , 0.        ,\n",
       "        0.        , 0.        , 0.        , 0.        , 0.05490196,\n",
       "        0.00392157, 0.60392157, 0.99215686, 0.35294118, 0.        ,\n",
       "        0.        , 0.        , 0.        , 0.        , 0.        ,\n",
       "        0.        , 0.        , 0.        , 0.        , 0.        ,\n",
       "        0.        , 0.        , 0.        ],\n",
       "       [0.        , 0.        , 0.        , 0.        , 0.        ,\n",
       "        0.        , 0.        , 0.        , 0.        , 0.        ,\n",
       "        0.        , 0.54509804, 0.99215686, 0.74509804, 0.00784314,\n",
       "        0.        , 0.        , 0.        , 0.        , 0.        ,\n",
       "        0.        , 0.        , 0.        , 0.        , 0.        ,\n",
       "        0.        , 0.        , 0.        ],\n",
       "       [0.        , 0.        , 0.        , 0.        , 0.        ,\n",
       "        0.        , 0.        , 0.        , 0.        , 0.        ,\n",
       "        0.        , 0.04313725, 0.74509804, 0.99215686, 0.2745098 ,\n",
       "        0.        , 0.        , 0.        , 0.        , 0.        ,\n",
       "        0.        , 0.        , 0.        , 0.        , 0.        ,\n",
       "        0.        , 0.        , 0.        ],\n",
       "       [0.        , 0.        , 0.        , 0.        , 0.        ,\n",
       "        0.        , 0.        , 0.        , 0.        , 0.        ,\n",
       "        0.        , 0.        , 0.1372549 , 0.94509804, 0.88235294,\n",
       "        0.62745098, 0.42352941, 0.00392157, 0.        , 0.        ,\n",
       "        0.        , 0.        , 0.        , 0.        , 0.        ,\n",
       "        0.        , 0.        , 0.        ],\n",
       "       [0.        , 0.        , 0.        , 0.        , 0.        ,\n",
       "        0.        , 0.        , 0.        , 0.        , 0.        ,\n",
       "        0.        , 0.        , 0.        , 0.31764706, 0.94117647,\n",
       "        0.99215686, 0.99215686, 0.46666667, 0.09803922, 0.        ,\n",
       "        0.        , 0.        , 0.        , 0.        , 0.        ,\n",
       "        0.        , 0.        , 0.        ],\n",
       "       [0.        , 0.        , 0.        , 0.        , 0.        ,\n",
       "        0.        , 0.        , 0.        , 0.        , 0.        ,\n",
       "        0.        , 0.        , 0.        , 0.        , 0.17647059,\n",
       "        0.72941176, 0.99215686, 0.99215686, 0.58823529, 0.10588235,\n",
       "        0.        , 0.        , 0.        , 0.        , 0.        ,\n",
       "        0.        , 0.        , 0.        ],\n",
       "       [0.        , 0.        , 0.        , 0.        , 0.        ,\n",
       "        0.        , 0.        , 0.        , 0.        , 0.        ,\n",
       "        0.        , 0.        , 0.        , 0.        , 0.        ,\n",
       "        0.0627451 , 0.36470588, 0.98823529, 0.99215686, 0.73333333,\n",
       "        0.        , 0.        , 0.        , 0.        , 0.        ,\n",
       "        0.        , 0.        , 0.        ],\n",
       "       [0.        , 0.        , 0.        , 0.        , 0.        ,\n",
       "        0.        , 0.        , 0.        , 0.        , 0.        ,\n",
       "        0.        , 0.        , 0.        , 0.        , 0.        ,\n",
       "        0.        , 0.        , 0.97647059, 0.99215686, 0.97647059,\n",
       "        0.25098039, 0.        , 0.        , 0.        , 0.        ,\n",
       "        0.        , 0.        , 0.        ],\n",
       "       [0.        , 0.        , 0.        , 0.        , 0.        ,\n",
       "        0.        , 0.        , 0.        , 0.        , 0.        ,\n",
       "        0.        , 0.        , 0.        , 0.        , 0.18039216,\n",
       "        0.50980392, 0.71764706, 0.99215686, 0.99215686, 0.81176471,\n",
       "        0.00784314, 0.        , 0.        , 0.        , 0.        ,\n",
       "        0.        , 0.        , 0.        ],\n",
       "       [0.        , 0.        , 0.        , 0.        , 0.        ,\n",
       "        0.        , 0.        , 0.        , 0.        , 0.        ,\n",
       "        0.        , 0.        , 0.15294118, 0.58039216, 0.89803922,\n",
       "        0.99215686, 0.99215686, 0.99215686, 0.98039216, 0.71372549,\n",
       "        0.        , 0.        , 0.        , 0.        , 0.        ,\n",
       "        0.        , 0.        , 0.        ],\n",
       "       [0.        , 0.        , 0.        , 0.        , 0.        ,\n",
       "        0.        , 0.        , 0.        , 0.        , 0.        ,\n",
       "        0.09411765, 0.44705882, 0.86666667, 0.99215686, 0.99215686,\n",
       "        0.99215686, 0.99215686, 0.78823529, 0.30588235, 0.        ,\n",
       "        0.        , 0.        , 0.        , 0.        , 0.        ,\n",
       "        0.        , 0.        , 0.        ],\n",
       "       [0.        , 0.        , 0.        , 0.        , 0.        ,\n",
       "        0.        , 0.        , 0.        , 0.09019608, 0.25882353,\n",
       "        0.83529412, 0.99215686, 0.99215686, 0.99215686, 0.99215686,\n",
       "        0.77647059, 0.31764706, 0.00784314, 0.        , 0.        ,\n",
       "        0.        , 0.        , 0.        , 0.        , 0.        ,\n",
       "        0.        , 0.        , 0.        ],\n",
       "       [0.        , 0.        , 0.        , 0.        , 0.        ,\n",
       "        0.        , 0.07058824, 0.67058824, 0.85882353, 0.99215686,\n",
       "        0.99215686, 0.99215686, 0.99215686, 0.76470588, 0.31372549,\n",
       "        0.03529412, 0.        , 0.        , 0.        , 0.        ,\n",
       "        0.        , 0.        , 0.        , 0.        , 0.        ,\n",
       "        0.        , 0.        , 0.        ],\n",
       "       [0.        , 0.        , 0.        , 0.        , 0.21568627,\n",
       "        0.6745098 , 0.88627451, 0.99215686, 0.99215686, 0.99215686,\n",
       "        0.99215686, 0.95686275, 0.52156863, 0.04313725, 0.        ,\n",
       "        0.        , 0.        , 0.        , 0.        , 0.        ,\n",
       "        0.        , 0.        , 0.        , 0.        , 0.        ,\n",
       "        0.        , 0.        , 0.        ],\n",
       "       [0.        , 0.        , 0.        , 0.        , 0.53333333,\n",
       "        0.99215686, 0.99215686, 0.99215686, 0.83137255, 0.52941176,\n",
       "        0.51764706, 0.0627451 , 0.        , 0.        , 0.        ,\n",
       "        0.        , 0.        , 0.        , 0.        , 0.        ,\n",
       "        0.        , 0.        , 0.        , 0.        , 0.        ,\n",
       "        0.        , 0.        , 0.        ],\n",
       "       [0.        , 0.        , 0.        , 0.        , 0.        ,\n",
       "        0.        , 0.        , 0.        , 0.        , 0.        ,\n",
       "        0.        , 0.        , 0.        , 0.        , 0.        ,\n",
       "        0.        , 0.        , 0.        , 0.        , 0.        ,\n",
       "        0.        , 0.        , 0.        , 0.        , 0.        ,\n",
       "        0.        , 0.        , 0.        ],\n",
       "       [0.        , 0.        , 0.        , 0.        , 0.        ,\n",
       "        0.        , 0.        , 0.        , 0.        , 0.        ,\n",
       "        0.        , 0.        , 0.        , 0.        , 0.        ,\n",
       "        0.        , 0.        , 0.        , 0.        , 0.        ,\n",
       "        0.        , 0.        , 0.        , 0.        , 0.        ,\n",
       "        0.        , 0.        , 0.        ],\n",
       "       [0.        , 0.        , 0.        , 0.        , 0.        ,\n",
       "        0.        , 0.        , 0.        , 0.        , 0.        ,\n",
       "        0.        , 0.        , 0.        , 0.        , 0.        ,\n",
       "        0.        , 0.        , 0.        , 0.        , 0.        ,\n",
       "        0.        , 0.        , 0.        , 0.        , 0.        ,\n",
       "        0.        , 0.        , 0.        ]])"
      ]
     },
     "execution_count": 12,
     "metadata": {},
     "output_type": "execute_result"
    }
   ],
   "source": [
    "X_train[0]"
   ]
  },
  {
   "cell_type": "code",
   "execution_count": 13,
   "id": "3af3b044",
   "metadata": {
    "id": "rbNiS67Evqok",
    "outputId": "d6b13c4c-14aa-4f3b-91bf-07103d1bfc5f",
    "papermill": {
     "duration": 0.02353,
     "end_time": "2023-11-11T11:14:16.917268",
     "exception": false,
     "start_time": "2023-11-11T11:14:16.893738",
     "status": "completed"
    },
    "tags": []
   },
   "outputs": [
    {
     "data": {
      "text/plain": [
       "array([0, 1, 2, 3, 4, 5, 6, 7, 8, 9], dtype=uint8)"
      ]
     },
     "execution_count": 13,
     "metadata": {},
     "output_type": "execute_result"
    }
   ],
   "source": [
    "np.unique(y_train)"
   ]
  },
  {
   "cell_type": "code",
   "execution_count": 14,
   "id": "8dd7e012",
   "metadata": {
    "id": "YHnObcpFvwqm",
    "papermill": {
     "duration": 0.020978,
     "end_time": "2023-11-11T11:14:16.950115",
     "exception": false,
     "start_time": "2023-11-11T11:14:16.929137",
     "status": "completed"
    },
    "tags": []
   },
   "outputs": [],
   "source": [
    "X_train=X_train.reshape(X_train.shape[0],X_train.shape[1]*X_train.shape[2])\n",
    "X_test=X_test.reshape(X_test.shape[0],X_test.shape[1]*X_test.shape[2])"
   ]
  },
  {
   "cell_type": "code",
   "execution_count": null,
   "id": "dfd662b2",
   "metadata": {
    "id": "mZ2nUNGF2RxM",
    "papermill": {
     "duration": 0.22449,
     "end_time": "2023-11-11T11:14:17.187361",
     "exception": false,
     "start_time": "2023-11-11T11:14:16.962871",
     "status": "completed"
    },
    "tags": []
   },
   "outputs": [],
   "source": [
    "from tensorflow.keras.models import Sequential\n",
    "from tensorflow.keras.layers import Dense\n",
    "\n",
    "# Define the input and output dimensions\n",
    "input_dims = X_train.shape[1]\n",
    "output_dims = 10\n",
    "\n",
    "# Defining the sequential model\n",
    "model = Sequential()\n",
    "\n",
    "# Add the 1st dense layer to the sequential model\n",
    "model.add(Dense(512, activation=\"sigmoid\", input_shape=(input_dims,), name=\"Hidden_layer_1\"))\n",
    "\n",
    "# Add the 2nd dense layer to the sequential model\n",
    "model.add(Dense(128, activation=\"sigmoid\", name=\"Hidden_layer_2\"))\n",
    "\n",
    "# Add the output layer\n",
    "model.add(Dense(output_dims, activation=\"softmax\", name=\"output_layer\"))\n"
   ]
  },
  {
   "cell_type": "code",
   "execution_count": null,
   "id": "e744f239",
   "metadata": {
    "id": "kkocWLi32lyZ",
    "outputId": "6f328bb1-4658-4ef9-bd60-1edc786ed262",
    "papermill": {
     "duration": 0.355961,
     "end_time": "2023-11-11T11:14:17.555856",
     "exception": false,
     "start_time": "2023-11-11T11:14:17.199895",
     "status": "completed"
    },
    "tags": []
   },
   "outputs": [],
   "source": [
    "#plotting the model\n",
    "from tensorflow.keras.utils import plot_model\n",
    "plot_model(model)"
   ]
  },
  {
   "cell_type": "markdown",
   "id": "a1e2e243",
   "metadata": {
    "id": "oVDKJ40A2uNw",
    "papermill": {
     "duration": 0.011535,
     "end_time": "2023-11-11T11:14:17.579402",
     "exception": false,
     "start_time": "2023-11-11T11:14:17.567867",
     "status": "completed"
    },
    "tags": []
   },
   "source": [
    "#Compile a neural network"
   ]
  },
  {
   "cell_type": "code",
   "execution_count": null,
   "id": "6f455ea4",
   "metadata": {
    "id": "w4gsQHvc2o6j",
    "papermill": {
     "duration": 0.037884,
     "end_time": "2023-11-11T11:14:17.629261",
     "exception": false,
     "start_time": "2023-11-11T11:14:17.591377",
     "status": "completed"
    },
    "tags": []
   },
   "outputs": [],
   "source": [
    "from tensorflow.keras.optimizers import RMSprop\n",
    "#define the optimizer\n",
    "optimizer=RMSprop(0.001)\n",
    "#complile the model\n",
    "model.compile(loss=\"binary_crossentropy\",optimizer=optimizer,metrics=[\"accuracy\"])"
   ]
  },
  {
   "cell_type": "code",
   "execution_count": null,
   "id": "6fc86f8d",
   "metadata": {
    "id": "gwnF1__m2y9q",
    "outputId": "be670386-75b4-464a-dd96-73817feea715",
    "papermill": {
     "duration": 72.892288,
     "end_time": "2023-11-11T11:15:30.533428",
     "exception": false,
     "start_time": "2023-11-11T11:14:17.641140",
     "status": "completed"
    },
    "tags": []
   },
   "outputs": [],
   "source": [
    "#define the batch_size and no. of epochs\n",
    "batch_size=128 #batch size should always be in 2^n where n=1,2,3,4....\n",
    "num_epochs=20\n",
    "\n",
    "#fit a neural network or train a neural_network\n",
    "from keras.utils import to_categorical\n",
    "\n",
    "# Assuming y_train is a 1D array of integer labels\n",
    "y_train_one_hot = to_categorical(y_train, num_classes=output_dims)\n",
    "\n",
    "# Now y_train_one_hot should have shape (batch_size, output_dims)\n",
    "\n",
    "# Compile your model\n",
    "model.compile(loss='categorical_crossentropy', optimizer='adam', metrics=['accuracy'])\n",
    "\n",
    "# Train your model\n",
    "history = model.fit(X_train, y_train_one_hot, validation_split=0.2, epochs=num_epochs, batch_size=batch_size, verbose=1)\n"
   ]
  },
  {
   "cell_type": "code",
   "execution_count": null,
   "id": "1db5e610",
   "metadata": {
    "id": "B2OKFtvb5iMn",
    "outputId": "300a6a59-3a9c-44b6-f047-4df189e89b65",
    "papermill": {
     "duration": 1.542045,
     "end_time": "2023-11-11T11:15:32.198892",
     "exception": false,
     "start_time": "2023-11-11T11:15:30.656847",
     "status": "completed"
    },
    "tags": []
   },
   "outputs": [],
   "source": [
    "from keras.utils import to_categorical\n",
    "\n",
    "# Assuming y_test is a 1D array of integer labels\n",
    "y_test_one_hot = to_categorical(y_test, num_classes=output_dims)\n",
    "\n",
    "# Now y_test_one_hot should have shape (batch_size, output_dims)\n",
    "\n",
    "# Evaluate your model\n",
    "score = model.evaluate(x=X_test, y=y_test_one_hot, verbose=0)\n",
    "print(\"Test score:\", score[0])\n",
    "print(\"Test accuracy:\", score[1])\n"
   ]
  },
  {
   "cell_type": "code",
   "execution_count": 17,
   "id": "36939f85",
   "metadata": {
    "execution": {
     "iopub.execute_input": "2023-11-11T11:15:32.449280Z",
     "iopub.status.busy": "2023-11-11T11:15:32.448873Z",
     "iopub.status.idle": "2023-11-11T11:15:32.825635Z",
     "shell.execute_reply": "2023-11-11T11:15:32.824401Z"
    },
    "id": "EkShu8HS6Gma",
    "outputId": "c2c03c5a-d708-42d9-d384-7ecd0883105c",
    "papermill": {
     "duration": 0.507098,
     "end_time": "2023-11-11T11:15:32.828611",
     "exception": false,
     "start_time": "2023-11-11T11:15:32.321513",
     "status": "completed"
    },
    "tags": []
   },
   "outputs": [
    {
     "data": {
      "image/png": "[encoded data removed]",
      "text/plain": [
       "<Figure size 640x480 with 1 Axes>"
      ]
     },
     "metadata": {},
     "output_type": "display_data"
    }
   ],
   "source": [
    "#plot training accuracy and validation accuracy\n",
    "plt.plot(history.history[\"accuracy\"])\n",
    "plt.plot(history.history[\"val_accuracy\"])\n",
    "plt.title(\"training and validating accuracy\")\n",
    "plt.xlabel(\"epochs\")\n",
    "plt.ylabel(\"accuracy\")\n",
    "plt.legend([\"train\",\"validation\"])\n",
    "plt.grid()\n",
    "plt.show()"
   ]
  },
  {
   "cell_type": "code",
   "execution_count": 18,
   "id": "5ca0fc9a",
   "metadata": {
    "execution": {
     "iopub.execute_input": "2023-11-11T11:15:33.080086Z",
     "iopub.status.busy": "2023-11-11T11:15:33.079665Z",
     "iopub.status.idle": "2023-11-11T11:15:33.428556Z",
     "shell.execute_reply": "2023-11-11T11:15:33.427354Z"
    },
    "id": "x5y4d_UI6H4f",
    "outputId": "286bbd60-2147-4f18-9c79-72d2350b45d6",
    "papermill": {
     "duration": 0.478224,
     "end_time": "2023-11-11T11:15:33.431284",
     "exception": false,
     "start_time": "2023-11-11T11:15:32.953060",
     "status": "completed"
    },
    "tags": []
   },
   "outputs": [
    {
     "data": {
      "image/png": "[encoded data removed]",
      "text/plain": [
       "<Figure size 640x480 with 1 Axes>"
      ]
     },
     "metadata": {},
     "output_type": "display_data"
    }
   ],
   "source": [
    "#plot training loss or validation loss\n",
    "plt.plot(history.history[\"loss\"])\n",
    "plt.plot(history.history[\"val_loss\"])\n",
    "plt.title(\"training and validating loss\")\n",
    "plt.xlabel(\"epochs\")\n",
    "plt.ylabel(\"loss\")\n",
    "plt.legend([\"train\",\"validation\"])\n",
    "plt.grid()\n",
    "plt.show()"
   ]
  },
  {
   "cell_type": "code",
   "execution_count": 19,
   "id": "aa176742",
   "metadata": {
    "execution": {
     "iopub.execute_input": "2023-11-11T11:15:33.679111Z",
     "iopub.status.busy": "2023-11-11T11:15:33.678668Z",
     "iopub.status.idle": "2023-11-11T11:15:33.685981Z",
     "shell.execute_reply": "2023-11-11T11:15:33.684900Z"
    },
    "id": "b3sApeNV7vh5",
    "outputId": "0b78559e-a546-44a2-8e8b-9e6e135a7ac0",
    "papermill": {
     "duration": 0.135316,
     "end_time": "2023-11-11T11:15:33.688439",
     "exception": false,
     "start_time": "2023-11-11T11:15:33.553123",
     "status": "completed"
    },
    "tags": []
   },
   "outputs": [
    {
     "data": {
      "text/plain": [
       "7"
      ]
     },
     "execution_count": 19,
     "metadata": {},
     "output_type": "execute_result"
    }
   ],
   "source": [
    "y_test[0]"
   ]
  },
  {
   "cell_type": "code",
   "execution_count": 20,
   "id": "92bcab2b",
   "metadata": {
    "execution": {
     "iopub.execute_input": "2023-11-11T11:15:33.941042Z",
     "iopub.status.busy": "2023-11-11T11:15:33.939835Z",
     "iopub.status.idle": "2023-11-11T11:15:35.414866Z",
     "shell.execute_reply": "2023-11-11T11:15:35.413598Z"
    },
    "id": "yZnvm0M1-VvP",
    "outputId": "b62efee5-7106-455b-fd8c-f02ead783804",
    "papermill": {
     "duration": 1.606363,
     "end_time": "2023-11-11T11:15:35.417751",
     "exception": false,
     "start_time": "2023-11-11T11:15:33.811388",
     "status": "completed"
    },
    "tags": []
   },
   "outputs": [
    {
     "name": "stdout",
     "output_type": "stream",
     "text": [
      "313/313 [==============================] - 1s 3ms/step\n"
     ]
    },
    {
     "data": {
      "text/plain": [
       "array([[1.59012998e-08, 1.51377026e-06, 3.26705191e-07, 1.43671696e-05,\n",
       "        2.31171882e-09, 8.20213064e-10, 4.36311360e-13, 9.99975502e-01,\n",
       "        2.62854556e-08, 8.11731115e-06],\n",
       "       [1.42370084e-07, 1.49073567e-05, 9.99984086e-01, 2.60329557e-07,\n",
       "        2.79305995e-10, 1.96128846e-09, 7.58499326e-08, 7.27504812e-08,\n",
       "        3.03126996e-07, 6.65789229e-11],\n",
       "       [4.27992530e-09, 9.99975860e-01, 4.40043414e-06, 1.19804966e-08,\n",
       "        4.41894002e-07, 7.03758971e-08, 3.63732943e-06, 1.45328431e-05,\n",
       "        9.79165407e-07, 3.38076922e-09],\n",
       "       [9.99876261e-01, 6.81321671e-06, 2.71060139e-06, 1.50724802e-07,\n",
       "        4.68401453e-07, 3.70635576e-08, 1.64742232e-05, 1.52625344e-05,\n",
       "        1.40259104e-07, 8.16225365e-05],\n",
       "       [9.95045379e-10, 2.54059813e-07, 1.09910538e-07, 1.37737863e-10,\n",
       "        9.99983370e-01, 2.90299729e-10, 1.27624666e-08, 1.43975685e-05,\n",
       "        5.16048759e-09, 1.81080634e-06],\n",
       "       [1.27584299e-09, 9.99959290e-01, 1.25692807e-07, 1.27447670e-08,\n",
       "        3.26607079e-07, 5.51442281e-10, 2.60304329e-08, 3.99983073e-05,\n",
       "        7.44396331e-08, 8.17159940e-09],\n",
       "       [6.78604672e-10, 3.07522072e-07, 1.82818436e-08, 1.08534248e-09,\n",
       "        9.99983370e-01, 1.42688510e-08, 1.00589226e-08, 7.31121736e-06,\n",
       "        9.67538881e-07, 7.95662982e-06],\n",
       "       [3.73772968e-09, 5.27615384e-07, 7.77052467e-09, 8.91675791e-06,\n",
       "        1.73849439e-05, 4.21596411e-08, 6.23319452e-11, 1.23180172e-07,\n",
       "        4.87437219e-08, 9.99972880e-01],\n",
       "       [2.55225114e-05, 2.34809893e-04, 1.08520901e-04, 3.79617359e-06,\n",
       "        1.82362995e-03, 4.71540183e-01, 5.25042176e-01, 9.30805300e-07,\n",
       "        6.38577156e-04, 5.81837783e-04],\n",
       "       [1.99689865e-07, 5.60212868e-07, 1.24616824e-08, 2.17110232e-06,\n",
       "        2.54674291e-04, 5.34479794e-09, 1.22825938e-09, 1.54998997e-04,\n",
       "        6.94587106e-06, 9.99580443e-01]], dtype=float32)"
      ]
     },
     "execution_count": 20,
     "metadata": {},
     "output_type": "execute_result"
    }
   ],
   "source": [
    "y_pred=model.predict(X_test)\n",
    "y_pred[:10]"
   ]
  },
  {
   "cell_type": "code",
   "execution_count": 21,
   "id": "5074d68e",
   "metadata": {
    "execution": {
     "iopub.execute_input": "2023-11-11T11:15:35.675322Z",
     "iopub.status.busy": "2023-11-11T11:15:35.674053Z",
     "iopub.status.idle": "2023-11-11T11:15:35.728391Z",
     "shell.execute_reply": "2023-11-11T11:15:35.727236Z"
    },
    "id": "C7WuABV_-t9a",
    "outputId": "7330a45b-c00a-436c-f232-1032f4386c12",
    "papermill": {
     "duration": 0.186665,
     "end_time": "2023-11-11T11:15:35.731067",
     "exception": false,
     "start_time": "2023-11-11T11:15:35.544402",
     "status": "completed"
    },
    "tags": []
   },
   "outputs": [
    {
     "data": {
      "text/plain": [
       "(array([7, 2, 1, 0, 4, 1, 4, 9, 6, 9]),\n",
       " array([7, 2, 1, 0, 4, 1, 4, 9, 5, 9], dtype=uint8))"
      ]
     },
     "execution_count": 21,
     "metadata": {},
     "output_type": "execute_result"
    }
   ],
   "source": [
    "y_pred=np.array([np.argmax(pred)for pred in y_pred])\n",
    "y_pred[0:10],y_test[0:10]"
   ]
  },
  {
   "cell_type": "code",
   "execution_count": 22,
   "id": "04924b9a",
   "metadata": {
    "execution": {
     "iopub.execute_input": "2023-11-11T11:15:35.989279Z",
     "iopub.status.busy": "2023-11-11T11:15:35.988411Z",
     "iopub.status.idle": "2023-11-11T11:15:37.401215Z",
     "shell.execute_reply": "2023-11-11T11:15:37.400004Z"
    },
    "id": "XqOkc4DI_DoT",
    "papermill": {
     "duration": 1.545731,
     "end_time": "2023-11-11T11:15:37.404237",
     "exception": false,
     "start_time": "2023-11-11T11:15:35.858506",
     "status": "completed"
    },
    "tags": []
   },
   "outputs": [],
   "source": [
    "# Import libraries for plotting Confusion Matrix and Classification Matrix\n",
    "from sklearn.metrics import classification_report, confusion_matrix, accuracy_score\n",
    "import seaborn as sns\n",
    "import matplotlib.pyplot as plt\n",
    "import numpy as np\n",
    "\n",
    "# This function plots the confusion matrices given y_i, Y_i_hat.\n",
    "def plot_confusion_matrix(y_test, y_predict):\n",
    "    cm = confusion_matrix(y_test, y_predict)\n",
    "    labels = list(np.unique(y_test))\n",
    "\n",
    "    # Color Map\n",
    "    cmap = sns.light_palette(\"blue\")\n",
    "\n",
    "    # Plot Confusion Matrix\n",
    "    plt.figure(figsize=(12, 12))\n",
    "    sns.heatmap(cm, annot=True, cmap=cmap, fmt=\".3f\", xticklabels=labels, yticklabels=labels)\n",
    "    plt.xlabel('Predicted Values')\n",
    "    plt.ylabel('Actual Values')\n",
    "    plt.title(\"Confusion matrix\")\n",
    "    plt.show()\n",
    "\n",
    "    print()\n",
    "    print('-' * 100)\n",
    "    print(\"Classification Report: \\n\", classification_report(y_test, y_predict))\n",
    "    print('Accuracy Score:', accuracy_score(y_test, y_predict) * 100)\n",
    "\n",
    "# Example usage:\n",
    "# Assuming you have y_test and y_predict\n",
    "# plot_confusion_matrix(y_test, y_predict)\n"
   ]
  },
  {
   "cell_type": "code",
   "execution_count": 23,
   "id": "f7c085d8",
   "metadata": {
    "execution": {
     "iopub.execute_input": "2023-11-11T11:15:37.659086Z",
     "iopub.status.busy": "2023-11-11T11:15:37.658508Z",
     "iopub.status.idle": "2023-11-11T11:15:38.397944Z",
     "shell.execute_reply": "2023-11-11T11:15:38.396729Z"
    },
    "id": "U06gAtw1Ab9-",
    "outputId": "74f0b519-00c3-4c86-ec85-3fcf5e20b228",
    "papermill": {
     "duration": 0.870432,
     "end_time": "2023-11-11T11:15:38.401298",
     "exception": false,
     "start_time": "2023-11-11T11:15:37.530866",
     "status": "completed"
    },
    "tags": []
   },
   "outputs": [
    {
     "data": {
      "image/png": "[encoded data removed]",
      "text/plain": [
       "<Figure size 1200x1200 with 2 Axes>"
      ]
     },
     "metadata": {},
     "output_type": "display_data"
    },
    {
     "name": "stdout",
     "output_type": "stream",
     "text": [
      "\n",
      "----------------------------------------------------------------------------------------------------\n",
      "Classification Report: \n",
      "               precision    recall  f1-score   support\n",
      "\n",
      "           0       0.98      0.99      0.98       980\n",
      "           1       0.99      0.99      0.99      1135\n",
      "           2       0.97      0.98      0.98      1032\n",
      "           3       0.96      0.98      0.97      1010\n",
      "           4       0.97      0.98      0.98       982\n",
      "           5       0.99      0.95      0.97       892\n",
      "           6       0.99      0.97      0.98       958\n",
      "           7       0.97      0.98      0.98      1028\n",
      "           8       0.98      0.97      0.98       974\n",
      "           9       0.98      0.96      0.97      1009\n",
      "\n",
      "    accuracy                           0.98     10000\n",
      "   macro avg       0.98      0.98      0.98     10000\n",
      "weighted avg       0.98      0.98      0.98     10000\n",
      "\n",
      "Accuracy Score: 97.78\n"
     ]
    }
   ],
   "source": [
    "plot_confusion_matrix(y_test, y_pred)\n"
   ]
  },
  {
   "cell_type": "code",
   "execution_count": null,
   "id": "b8acecaf",
   "metadata": {
    "id": "_X0vyOU8A5kc",
    "papermill": {
     "duration": 0.127666,
     "end_time": "2023-11-11T11:15:38.659506",
     "exception": false,
     "start_time": "2023-11-11T11:15:38.531840",
     "status": "completed"
    },
    "tags": []
   },
   "outputs": [],
   "source": []
  }
 ],
 "metadata": {
  "kernelspec": {
   "display_name": "Python 3 (ipykernel)",
   "language": "python",
   "name": "python3"
  },
  "language_info": {
   "codemirror_mode": {
    "name": "ipython",
    "version": 3
   },
   "file_extension": ".py",
   "mimetype": "text/x-python",
   "name": "python",
   "nbconvert_exporter": "python",
   "pygments_lexer": "ipython3",
   "version": "3.10.12"
  },
  "papermill": {
   "default_parameters": {},
   "duration": 105.50486,
   "end_time": "2023-11-11T11:15:40.615421",
   "environment_variables": {},
   "exception": null,
   "input_path": "__notebook__.ipynb",
   "output_path": "__notebook__.ipynb",
   "parameters": {},
   "start_time": "2023-11-11T11:13:55.110561",
   "version": "2.4.0"
  }
 },
 "nbformat": 4,
 "nbformat_minor": 5
}
